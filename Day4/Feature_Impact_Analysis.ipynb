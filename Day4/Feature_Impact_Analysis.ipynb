{
 "cells": [
  {
   "cell_type": "code",
   "execution_count": null,
   "metadata": {},
   "outputs": [
    {
     "name": "stdout",
     "output_type": "stream",
     "text": [
      "\n",
      "Feature Impact on Diabetes Progression:\n",
      "  Feature  Coefficient\n",
      "8      s5   736.198859\n",
      "2     bmi   542.428759\n",
      "5      s2   518.062277\n",
      "3      bp   347.703844\n",
      "7      s4   275.317902\n",
      "6      s3   163.419983\n",
      "9      s6    48.670657\n",
      "0     age    37.904021\n",
      "1     sex  -241.964362\n",
      "4      s1  -931.488846\n"
     ]
    }
   ],
   "source": [
    "#TASK5\n",
    "import numpy as np\n",
    "import pandas as pd\n",
    "from sklearn.model_selection import train_test_split\n",
    "from sklearn.linear_model import LinearRegression\n",
    "from sklearn.datasets import load_diabetes\n",
    "\n",
    "data = load_diabetes()\n",
    "df = pd.DataFrame(data.data, columns=data.feature_names)\n",
    "y = data.target  \n",
    "\n",
    "X_train, X_test, y_train, y_test = train_test_split(df, y, test_size=0.2, random_state=42)\n",
    "\n",
    "multi_model = LinearRegression()\n",
    "multi_model.fit(X_train, y_train)\n",
    "\n",
    "feature_importance = pd.DataFrame({'Feature': df.columns, 'Coefficient': multi_model.coef_})\n",
    "feature_importance = feature_importance.sort_values(by='Coefficient', ascending=False)\n",
    "\n",
    "print(\"\\nFeature Impact on Diabetes Progression:\")\n",
    "print(feature_importance)\n"
   ]
  }
 ],
 "metadata": {
  "kernelspec": {
   "display_name": "Python 3",
   "language": "python",
   "name": "python3"
  },
  "language_info": {
   "codemirror_mode": {
    "name": "ipython",
    "version": 3
   },
   "file_extension": ".py",
   "mimetype": "text/x-python",
   "name": "python",
   "nbconvert_exporter": "python",
   "pygments_lexer": "ipython3",
   "version": "3.11.1"
  }
 },
 "nbformat": 4,
 "nbformat_minor": 2
}
